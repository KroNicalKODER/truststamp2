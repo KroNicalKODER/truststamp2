{
 "cells": [
  {
   "cell_type": "code",
   "execution_count": 1,
   "id": "311ad64b-5763-4d0a-bf07-9a94d4e0a158",
   "metadata": {
    "tags": []
   },
   "outputs": [
    {
     "name": "stderr",
     "output_type": "stream",
     "text": [
      "ERROR: Could not find a version that satisfies the requirement cv2 (from versions: none)\n",
      "ERROR: No matching distribution found for cv2\n"
     ]
    },
    {
     "name": "stdout",
     "output_type": "stream",
     "text": [
      "Collecting cvzone\n",
      "  Downloading cvzone-1.6.1.tar.gz (25 kB)\n",
      "  Preparing metadata (setup.py): started\n",
      "  Preparing metadata (setup.py): finished with status 'done'\n",
      "Requirement already satisfied: opencv-python in c:\\users\\mradu\\appdata\\local\\programs\\python\\python311\\lib\\site-packages (from cvzone) (4.8.1.78)\n",
      "Requirement already satisfied: numpy in c:\\users\\mradu\\appdata\\local\\programs\\python\\python311\\lib\\site-packages (from cvzone) (1.26.2)\n",
      "Building wheels for collected packages: cvzone\n",
      "  Building wheel for cvzone (setup.py): started\n",
      "  Building wheel for cvzone (setup.py): finished with status 'done'\n",
      "  Created wheel for cvzone: filename=cvzone-1.6.1-py3-none-any.whl size=26309 sha256=924e24ae2de175af338433d8b31fdeec25f5098808d775be3347469b29fd165a\n",
      "  Stored in directory: c:\\users\\mradu\\appdata\\local\\pip\\cache\\wheels\\ab\\36\\ec\\47be2d4e59dc4289e684d5b0dde54d1e72e51a614e57690e85\n",
      "Successfully built cvzone\n",
      "Installing collected packages: cvzone\n",
      "Successfully installed cvzone-1.6.1\n"
     ]
    }
   ],
   "source": [
    "# !pip install --upgrade ultralytics\n",
    "!pip install cv2\n",
    "!pip install cvzone\n",
    "!pip install ultralytics "
   ]
  },
  {
   "cell_type": "code",
   "execution_count": 5,
   "id": "56570a02-2b5f-4806-afd8-0579fbaeaba2",
   "metadata": {
    "tags": []
   },
   "outputs": [],
   "source": [
    "import math\n",
    "import time\n",
    "import cv2\n",
    "from ultralytics import YOLO\n",
    "import os"
   ]
  },
  {
   "cell_type": "code",
   "execution_count": null,
   "id": "1859e90e-34a1-4823-b9e3-246ec365145e",
   "metadata": {
    "tags": []
   },
   "outputs": [],
   "source": []
  },
  {
   "cell_type": "code",
   "execution_count": 7,
   "id": "cb99ed61-21d7-4eab-a70f-b6d5dfab3bdc",
   "metadata": {},
   "outputs": [
    {
     "name": "stdout",
     "output_type": "stream",
     "text": [
      "Image: k.jpg, Result: fake\n",
      "Image: shiv.jpg, Result: real\n",
      "Image: ts.jpg, Result: fake\n",
      "Image: Shash.jpg, Result: real\n",
      "Image: 2.jpg, Result: fake\n",
      "Image: aks.jpg, Result: real\n",
      "Processing complete.\n"
     ]
    }
   ],
   "source": [
    "\n",
    "confidence = 0.6\n",
    "\n",
    "folder_path = \"TrustStamp_Images\"\n",
    "\n",
    "image_files = [f for f in os.listdir(folder_path) if f.endswith('.jpg')]\n",
    "\n",
    "model = YOLO(\"../Spoofing Model/models/best.pt\")\n",
    "\n",
    "classNames = [\"fake\", \"real\"]\n",
    "\n",
    "for image_file in image_files:\n",
    "\n",
    "    image_path = os.path.join(folder_path, image_file)\n",
    "\n",
    "    img = cv2.imread(image_path)\n",
    "\n",
    "    results = model(img, stream=True, verbose=False)\n",
    "    \n",
    "    is_fake = False\n",
    "    \n",
    "    for r in results:\n",
    "        for box in r.boxes:\n",
    "            conf = box.conf[0]\n",
    "            cls = int(box.cls[0])\n",
    "            if conf > confidence and classNames[cls] == 'fake':\n",
    "                is_fake = True\n",
    "                break\n",
    "    \n",
    "    result_text = \"fake\" if is_fake else \"real\"\n",
    "    print(f\"Image: {image_file}, Result: {result_text}\")\n",
    "\n",
    "print(\"Processing complete.\")\n"
   ]
  },
  {
   "cell_type": "markdown",
   "metadata": {},
   "source": []
  },
  {
   "cell_type": "code",
   "execution_count": null,
   "id": "25ef8e43-3f3a-4ce1-b58f-6bd4a101c6c2",
   "metadata": {},
   "outputs": [],
   "source": []
  }
 ],
 "metadata": {
  "kernelspec": {
   "display_name": "Python 3",
   "language": "python",
   "name": "python3"
  },
  "language_info": {
   "codemirror_mode": {
    "name": "ipython",
    "version": 3
   },
   "file_extension": ".py",
   "mimetype": "text/x-python",
   "name": "python",
   "nbconvert_exporter": "python",
   "pygments_lexer": "ipython3",
   "version": "3.11.6"
  }
 },
 "nbformat": 4,
 "nbformat_minor": 5
}
